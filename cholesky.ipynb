import numpy as np
import matplotlib.pyplot as plt

np.random.seed(0)
N = 100  # Liczba wektorów d_i
dim = 2  # Wymiar wektorów d_i

# 1. Generowanie losowych wektorów d_i i obliczenie macierzy C = sum_i d_i d_i^T
d_vectors = np.random.randn(N, dim)  # Losowe wektory d_i ~ N(0, I)

# Rysowanie wektorów d_i jako punktów w przestrzeni 2D
plt.figure(figsize=(10, 8))
plt.scatter(d_vectors[:, 0], d_vectors[:, 1], color='purple')
plt.title("Wektory d_i w przestrzeni 2D")
plt.xlabel("d_i[0]")
plt.xlim(-3, 3)
plt.ylabel("d_i[1]")
plt.ylim(-3, 3)
plt.grid(True)
plt.draw()

C = sum(np.outer(d, d) for d in d_vectors)  # C = sum d_i d_i^T
print("C", C)

# 2. Metoda Choleskiego: Symulacja N(0, C) jako L @ N(0, I)
L = np.linalg.cholesky(C)  # Rozkład Choleskiego, gdzie C = L L^T
print("L", L)

# 3. Alternatywna metoda: Suma losowych wektorów d_i z wagami N(0,1)
weights = np.random.randn(N)  # Wagi z rozkładu N(0,1)
sample_sum_method = sum(weight * d for weight, d in zip(weights, d_vectors))  # Próbka z sumy d_i * Z_i

# Sprawdzenie tożsamości rozkładów
# Wielokrotne próbkowanie, aby zobaczyć, czy rozkłady są podobne
num_samples = 100000
samples_cholesky = np.array([L @ np.random.randn(dim) for _ in range(num_samples)])
samples_sum_method = np.array([sum(w * d for w, d in zip(np.random.randn(N), d_vectors)) for _ in range(num_samples)])

# Wykres porównawczy dla dwóch metod
fig, axes = plt.subplots(dim, 2, figsize=(10, 8))
fig.suptitle("Porównanie rozkładów: Metoda Choleskiego vs. Suma d_i * N(0,1)")

for i in range(dim):
    axes[i, 0].hist(samples_cholesky[:, i], bins=40, color='blue', label="Cholesky")
    axes[i, 0].set_title(f'Cholesky - Wymiar {i+1}')
    axes[i, 0].set_xlim(-40, 40)
    
    axes[i, 1].hist(samples_sum_method[:, i], bins=40, color='green', label="Sum Method")
    axes[i, 1].set_title(f'Suma d_i * N(0,1) - Wymiar {i+1}')
    axes[i, 1].set_xlim(-40, 40)

plt.show()
