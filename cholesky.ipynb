{
 "cells": [
  {
   "cell_type": "code",
   "execution_count": 10,
   "metadata": {},
   "outputs": [],
   "source": [
    "from mpl_toolkits.mplot3d import Axes3D\n",
    "import matplotlib.pyplot as plt\n",
    "import numpy as np\n",
    "import json\n",
    "import os\n",
    "\n",
    "days = sorted(map(lambda s: s.strip('.json'), os.listdir('json')))\n",
    "scores = {}\n",
    "for day in days:\n",
    "    filename = 'json/{}.json'.format(day)\n",
    "    scores[day] = json.load(open(filename))['leaderboard']\n",
    "\n",
    "def plot(plt, ylabel, title):\n",
    "    plt.legend(bbox_to_anchor=(1.05, 1), loc=2, borderaxespad=0.)\n",
    "    plt.ylabel(ylabel)\n",
    "    plt.xlabel(\"day\")\n",
    "    plt.xticks(days[::3], rotation='vertical')\n",
    "    plt.title(title)\n",
    "    plt.show()\n",
    "    \n",
    "def get_scores(vals):\n",
    "    return [val['score'] for val in vals]"
   ]
  }
}
